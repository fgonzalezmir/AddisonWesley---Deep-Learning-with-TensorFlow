{
 "cells": [
  {
   "cell_type": "markdown",
   "metadata": {},
   "source": [
    "# Deep Neural Network in Keras"
   ]
  },
  {
   "cell_type": "markdown",
   "metadata": {},
   "source": [
    "Build a deep neural netwwork to classify MNIST digits"
   ]
  },
  {
   "cell_type": "markdown",
   "metadata": {},
   "source": [
    "#### Set seed for reproducibility"
   ]
  },
  {
   "cell_type": "code",
   "execution_count": 1,
   "metadata": {
    "collapsed": true
   },
   "outputs": [],
   "source": [
    "import numpy as np\n",
    "np.random.seed(42)"
   ]
  },
  {
   "cell_type": "markdown",
   "metadata": {},
   "source": [
    "#### Load dependencies"
   ]
  },
  {
   "cell_type": "code",
   "execution_count": 2,
   "metadata": {},
   "outputs": [
    {
     "name": "stderr",
     "output_type": "stream",
     "text": [
      "Using TensorFlow backend.\n"
     ]
    }
   ],
   "source": [
    "import keras\n",
    "from keras.datasets import mnist\n",
    "from keras.models import Sequential\n",
    "from keras.layers import Dense\n",
    "from keras.layers import Dropout\n",
    "from keras.layers.normalization import BatchNormalization\n",
    "from keras import regularizers\n",
    "from keras.optimizers import SGD"
   ]
  },
  {
   "cell_type": "markdown",
   "metadata": {},
   "source": [
    "#### Load data"
   ]
  },
  {
   "cell_type": "code",
   "execution_count": 3,
   "metadata": {
    "collapsed": true
   },
   "outputs": [],
   "source": [
    "(X_train, y_train), (X_test, y_test) = mnist.load_data()"
   ]
  },
  {
   "cell_type": "markdown",
   "metadata": {},
   "source": [
    "#### Preprocess data"
   ]
  },
  {
   "cell_type": "code",
   "execution_count": 4,
   "metadata": {
    "collapsed": true
   },
   "outputs": [],
   "source": [
    "X_train = X_train.reshape(60000, 784).astype('float32')\n",
    "X_test = X_test.reshape(10000, 784).astype('float32')"
   ]
  },
  {
   "cell_type": "code",
   "execution_count": 5,
   "metadata": {
    "collapsed": true
   },
   "outputs": [],
   "source": [
    "X_train /= 255\n",
    "X_test /= 255"
   ]
  },
  {
   "cell_type": "code",
   "execution_count": 6,
   "metadata": {
    "collapsed": true
   },
   "outputs": [],
   "source": [
    "n_classes = 10\n",
    "y_train = keras.utils.to_categorical(y_train, n_classes)\n",
    "y_test = keras.utils.to_categorical(y_test, n_classes)"
   ]
  },
  {
   "cell_type": "markdown",
   "metadata": {},
   "source": [
    "#### Design neural network architecture"
   ]
  },
  {
   "cell_type": "code",
   "execution_count": 7,
   "metadata": {},
   "outputs": [],
   "source": [
    "model = Sequential()\n",
    "model.add(Dense(64, activation='relu', input_shape=(784,)))\n",
    "model.add(BatchNormalization())\n",
    "model.add(Dropout(0.5))\n",
    "model.add(Dense(64, activation='relu'))\n",
    "model.add(BatchNormalization())\n",
    "model.add(Dropout(0.5))\n",
    "model.add(Dense(64, activation='relu'))\n",
    "model.add(BatchNormalization())\n",
    "model.add(Dropout(0.5))\n",
    "model.add(Dense(10, activation='softmax'))"
   ]
  },
  {
   "cell_type": "code",
   "execution_count": 8,
   "metadata": {},
   "outputs": [
    {
     "name": "stdout",
     "output_type": "stream",
     "text": [
      "_________________________________________________________________\n",
      "Layer (type)                 Output Shape              Param #   \n",
      "=================================================================\n",
      "dense_1 (Dense)              (None, 64)                50240     \n",
      "_________________________________________________________________\n",
      "batch_normalization_1 (Batch (None, 64)                256       \n",
      "_________________________________________________________________\n",
      "dropout_1 (Dropout)          (None, 64)                0         \n",
      "_________________________________________________________________\n",
      "dense_2 (Dense)              (None, 64)                4160      \n",
      "_________________________________________________________________\n",
      "batch_normalization_2 (Batch (None, 64)                256       \n",
      "_________________________________________________________________\n",
      "dropout_2 (Dropout)          (None, 64)                0         \n",
      "_________________________________________________________________\n",
      "dense_3 (Dense)              (None, 64)                4160      \n",
      "_________________________________________________________________\n",
      "batch_normalization_3 (Batch (None, 64)                256       \n",
      "_________________________________________________________________\n",
      "dropout_3 (Dropout)          (None, 64)                0         \n",
      "_________________________________________________________________\n",
      "dense_4 (Dense)              (None, 10)                650       \n",
      "=================================================================\n",
      "Total params: 59,978\n",
      "Trainable params: 59,594\n",
      "Non-trainable params: 384\n",
      "_________________________________________________________________\n"
     ]
    }
   ],
   "source": [
    "model.summary()"
   ]
  },
  {
   "cell_type": "markdown",
   "metadata": {
    "collapsed": true
   },
   "source": [
    "### Configure Model"
   ]
  },
  {
   "cell_type": "code",
   "execution_count": 9,
   "metadata": {
    "collapsed": true
   },
   "outputs": [],
   "source": [
    "model.compile(loss='categorical_crossentropy', optimizer='adam', metrics=['accuracy'])"
   ]
  },
  {
   "cell_type": "markdown",
   "metadata": {},
   "source": [
    "### Train!"
   ]
  },
  {
   "cell_type": "code",
   "execution_count": 10,
   "metadata": {},
   "outputs": [
    {
     "name": "stdout",
     "output_type": "stream",
     "text": [
      "Train on 60000 samples, validate on 10000 samples\n",
      "Epoch 1/100\n",
      "60000/60000 [==============================] - 9s - loss: 1.1490 - acc: 0.6258 - val_loss: 0.3181 - val_acc: 0.9097\n",
      "Epoch 2/100\n",
      "60000/60000 [==============================] - 6s - loss: 0.5662 - acc: 0.8313 - val_loss: 0.2556 - val_acc: 0.9260\n",
      "Epoch 3/100\n",
      "60000/60000 [==============================] - 6s - loss: 0.4616 - acc: 0.8673 - val_loss: 0.2203 - val_acc: 0.9345\n",
      "Epoch 4/100\n",
      "60000/60000 [==============================] - 5s - loss: 0.4031 - acc: 0.8877 - val_loss: 0.2061 - val_acc: 0.9407\n",
      "Epoch 5/100\n",
      "60000/60000 [==============================] - 5s - loss: 0.3707 - acc: 0.8967 - val_loss: 0.1821 - val_acc: 0.9495\n",
      "Epoch 6/100\n",
      "60000/60000 [==============================] - 5s - loss: 0.3451 - acc: 0.9051 - val_loss: 0.1738 - val_acc: 0.9511\n",
      "Epoch 7/100\n",
      "60000/60000 [==============================] - 5s - loss: 0.3312 - acc: 0.9081 - val_loss: 0.1635 - val_acc: 0.9529\n",
      "Epoch 8/100\n",
      "60000/60000 [==============================] - 5s - loss: 0.3209 - acc: 0.9131 - val_loss: 0.1615 - val_acc: 0.9543\n",
      "Epoch 9/100\n",
      "60000/60000 [==============================] - 5s - loss: 0.3072 - acc: 0.9161 - val_loss: 0.1557 - val_acc: 0.9569\n",
      "Epoch 10/100\n",
      "60000/60000 [==============================] - 5s - loss: 0.2984 - acc: 0.9176 - val_loss: 0.1572 - val_acc: 0.9555\n",
      "Epoch 11/100\n",
      "60000/60000 [==============================] - 5s - loss: 0.2920 - acc: 0.9187 - val_loss: 0.1528 - val_acc: 0.9554\n",
      "Epoch 12/100\n",
      "60000/60000 [==============================] - 5s - loss: 0.2846 - acc: 0.9196 - val_loss: 0.1541 - val_acc: 0.9565\n",
      "Epoch 13/100\n",
      "60000/60000 [==============================] - 5s - loss: 0.2715 - acc: 0.9253 - val_loss: 0.1458 - val_acc: 0.9591\n",
      "Epoch 14/100\n",
      "60000/60000 [==============================] - 5s - loss: 0.2701 - acc: 0.9242 - val_loss: 0.1426 - val_acc: 0.9603\n",
      "Epoch 15/100\n",
      "60000/60000 [==============================] - 5s - loss: 0.2638 - acc: 0.9263 - val_loss: 0.1394 - val_acc: 0.9596\n",
      "Epoch 16/100\n",
      "60000/60000 [==============================] - 6s - loss: 0.2566 - acc: 0.9292 - val_loss: 0.1421 - val_acc: 0.9608\n",
      "Epoch 17/100\n",
      "60000/60000 [==============================] - 6s - loss: 0.2601 - acc: 0.9287 - val_loss: 0.1403 - val_acc: 0.9612\n",
      "Epoch 18/100\n",
      "60000/60000 [==============================] - 5s - loss: 0.2530 - acc: 0.9288 - val_loss: 0.1349 - val_acc: 0.9600\n",
      "Epoch 19/100\n",
      "60000/60000 [==============================] - 5s - loss: 0.2492 - acc: 0.9301 - val_loss: 0.1366 - val_acc: 0.9599\n",
      "Epoch 20/100\n",
      "60000/60000 [==============================] - 5s - loss: 0.2515 - acc: 0.9306 - val_loss: 0.1302 - val_acc: 0.9632\n",
      "Epoch 21/100\n",
      "60000/60000 [==============================] - 5s - loss: 0.2441 - acc: 0.9320 - val_loss: 0.1343 - val_acc: 0.9629\n",
      "Epoch 22/100\n",
      "60000/60000 [==============================] - 5s - loss: 0.2358 - acc: 0.9353 - val_loss: 0.1330 - val_acc: 0.9622\n",
      "Epoch 23/100\n",
      "60000/60000 [==============================] - 5s - loss: 0.2435 - acc: 0.9328 - val_loss: 0.1315 - val_acc: 0.9640\n",
      "Epoch 24/100\n",
      "60000/60000 [==============================] - 5s - loss: 0.2373 - acc: 0.9334 - val_loss: 0.1384 - val_acc: 0.9621\n",
      "Epoch 25/100\n",
      "60000/60000 [==============================] - 5s - loss: 0.2351 - acc: 0.9342 - val_loss: 0.1305 - val_acc: 0.9643\n",
      "Epoch 26/100\n",
      "60000/60000 [==============================] - 5s - loss: 0.2324 - acc: 0.9364 - val_loss: 0.1316 - val_acc: 0.9648\n",
      "Epoch 27/100\n",
      "60000/60000 [==============================] - 5s - loss: 0.2328 - acc: 0.9355 - val_loss: 0.1286 - val_acc: 0.9641\n",
      "Epoch 28/100\n",
      "60000/60000 [==============================] - 5s - loss: 0.2305 - acc: 0.9349 - val_loss: 0.1326 - val_acc: 0.9630\n",
      "Epoch 29/100\n",
      "60000/60000 [==============================] - 5s - loss: 0.2307 - acc: 0.9353 - val_loss: 0.1289 - val_acc: 0.9643\n",
      "Epoch 30/100\n",
      "60000/60000 [==============================] - 5s - loss: 0.2233 - acc: 0.9383 - val_loss: 0.1295 - val_acc: 0.9649\n",
      "Epoch 31/100\n",
      "60000/60000 [==============================] - 5s - loss: 0.2262 - acc: 0.9378 - val_loss: 0.1325 - val_acc: 0.9642\n",
      "Epoch 32/100\n",
      "60000/60000 [==============================] - 5s - loss: 0.2244 - acc: 0.9361 - val_loss: 0.1294 - val_acc: 0.9653\n",
      "Epoch 33/100\n",
      "60000/60000 [==============================] - 5s - loss: 0.2205 - acc: 0.9383 - val_loss: 0.1293 - val_acc: 0.9634\n",
      "Epoch 34/100\n",
      "60000/60000 [==============================] - 5s - loss: 0.2227 - acc: 0.9379 - val_loss: 0.1272 - val_acc: 0.9648\n",
      "Epoch 35/100\n",
      "60000/60000 [==============================] - 5s - loss: 0.2191 - acc: 0.9397 - val_loss: 0.1269 - val_acc: 0.9656\n",
      "Epoch 36/100\n",
      "60000/60000 [==============================] - 5s - loss: 0.2174 - acc: 0.9398 - val_loss: 0.1288 - val_acc: 0.9642\n",
      "Epoch 37/100\n",
      "60000/60000 [==============================] - 5s - loss: 0.2165 - acc: 0.9393 - val_loss: 0.1185 - val_acc: 0.9675\n",
      "Epoch 38/100\n",
      "60000/60000 [==============================] - 5s - loss: 0.2159 - acc: 0.9405 - val_loss: 0.1257 - val_acc: 0.9656\n",
      "Epoch 39/100\n",
      "60000/60000 [==============================] - 5s - loss: 0.2154 - acc: 0.9397 - val_loss: 0.1251 - val_acc: 0.9666\n",
      "Epoch 40/100\n",
      "60000/60000 [==============================] - 6s - loss: 0.2150 - acc: 0.9403 - val_loss: 0.1259 - val_acc: 0.9661\n",
      "Epoch 41/100\n",
      "60000/60000 [==============================] - 5s - loss: 0.2148 - acc: 0.9407 - val_loss: 0.1286 - val_acc: 0.9640\n",
      "Epoch 42/100\n",
      "60000/60000 [==============================] - 5s - loss: 0.2089 - acc: 0.9418 - val_loss: 0.1256 - val_acc: 0.9655\n",
      "Epoch 43/100\n",
      "60000/60000 [==============================] - 5s - loss: 0.2123 - acc: 0.9418 - val_loss: 0.1204 - val_acc: 0.9665\n",
      "Epoch 44/100\n",
      "60000/60000 [==============================] - 5s - loss: 0.2063 - acc: 0.9437 - val_loss: 0.1218 - val_acc: 0.9663\n",
      "Epoch 45/100\n",
      "60000/60000 [==============================] - 5s - loss: 0.2103 - acc: 0.9426 - val_loss: 0.1206 - val_acc: 0.9668\n",
      "Epoch 46/100\n",
      "60000/60000 [==============================] - 5s - loss: 0.2074 - acc: 0.9405 - val_loss: 0.1247 - val_acc: 0.9649\n",
      "Epoch 47/100\n",
      "60000/60000 [==============================] - 5s - loss: 0.2068 - acc: 0.9429 - val_loss: 0.1232 - val_acc: 0.9670\n",
      "Epoch 48/100\n",
      "60000/60000 [==============================] - 5s - loss: 0.2082 - acc: 0.9412 - val_loss: 0.1203 - val_acc: 0.9665\n",
      "Epoch 49/100\n",
      "60000/60000 [==============================] - 5s - loss: 0.2062 - acc: 0.9430 - val_loss: 0.1242 - val_acc: 0.9640\n",
      "Epoch 50/100\n",
      "60000/60000 [==============================] - 5s - loss: 0.2059 - acc: 0.9417 - val_loss: 0.1245 - val_acc: 0.9669\n",
      "Epoch 51/100\n",
      "60000/60000 [==============================] - 5s - loss: 0.2067 - acc: 0.9423 - val_loss: 0.1211 - val_acc: 0.9674\n",
      "Epoch 52/100\n",
      "60000/60000 [==============================] - 5s - loss: 0.2019 - acc: 0.9440 - val_loss: 0.1262 - val_acc: 0.9658\n",
      "Epoch 53/100\n",
      "60000/60000 [==============================] - 5s - loss: 0.2042 - acc: 0.9428 - val_loss: 0.1149 - val_acc: 0.9686\n",
      "Epoch 54/100\n",
      "60000/60000 [==============================] - 5s - loss: 0.1983 - acc: 0.9444 - val_loss: 0.1209 - val_acc: 0.9662\n",
      "Epoch 55/100\n",
      "60000/60000 [==============================] - 5s - loss: 0.2019 - acc: 0.9433 - val_loss: 0.1200 - val_acc: 0.9658\n",
      "Epoch 56/100\n",
      "60000/60000 [==============================] - 5s - loss: 0.2040 - acc: 0.9439 - val_loss: 0.1202 - val_acc: 0.9664\n",
      "Epoch 57/100\n",
      "60000/60000 [==============================] - 5s - loss: 0.2018 - acc: 0.9437 - val_loss: 0.1219 - val_acc: 0.9668\n",
      "Epoch 58/100\n",
      "60000/60000 [==============================] - 5s - loss: 0.2037 - acc: 0.9429 - val_loss: 0.1176 - val_acc: 0.9678\n",
      "Epoch 59/100\n",
      "60000/60000 [==============================] - 5s - loss: 0.1994 - acc: 0.9431 - val_loss: 0.1179 - val_acc: 0.9668\n",
      "Epoch 60/100\n",
      "60000/60000 [==============================] - 5s - loss: 0.2006 - acc: 0.9434 - val_loss: 0.1168 - val_acc: 0.9662\n",
      "Epoch 61/100\n",
      "60000/60000 [==============================] - 5s - loss: 0.1948 - acc: 0.9450 - val_loss: 0.1190 - val_acc: 0.9659\n",
      "Epoch 62/100\n",
      "60000/60000 [==============================] - 5s - loss: 0.1965 - acc: 0.9444 - val_loss: 0.1231 - val_acc: 0.9669\n",
      "Epoch 63/100\n",
      "60000/60000 [==============================] - 5s - loss: 0.1991 - acc: 0.9444 - val_loss: 0.1200 - val_acc: 0.9663\n",
      "Epoch 64/100\n"
     ]
    },
    {
     "name": "stdout",
     "output_type": "stream",
     "text": [
      "60000/60000 [==============================] - 5s - loss: 0.1991 - acc: 0.9446 - val_loss: 0.1200 - val_acc: 0.9676\n",
      "Epoch 65/100\n",
      "60000/60000 [==============================] - 5s - loss: 0.1952 - acc: 0.9448 - val_loss: 0.1203 - val_acc: 0.9672\n",
      "Epoch 66/100\n",
      "60000/60000 [==============================] - 5s - loss: 0.2003 - acc: 0.9443 - val_loss: 0.1198 - val_acc: 0.9678\n",
      "Epoch 67/100\n",
      "60000/60000 [==============================] - 5s - loss: 0.1910 - acc: 0.9460 - val_loss: 0.1201 - val_acc: 0.9677\n",
      "Epoch 68/100\n",
      "60000/60000 [==============================] - 5s - loss: 0.1941 - acc: 0.9457 - val_loss: 0.1233 - val_acc: 0.9664\n",
      "Epoch 69/100\n",
      "60000/60000 [==============================] - 5s - loss: 0.1926 - acc: 0.9465 - val_loss: 0.1154 - val_acc: 0.9687\n",
      "Epoch 70/100\n",
      "60000/60000 [==============================] - 5s - loss: 0.1914 - acc: 0.9459 - val_loss: 0.1260 - val_acc: 0.9660\n",
      "Epoch 71/100\n",
      "60000/60000 [==============================] - 5s - loss: 0.1915 - acc: 0.9458 - val_loss: 0.1182 - val_acc: 0.9677\n",
      "Epoch 72/100\n",
      "60000/60000 [==============================] - 5s - loss: 0.1910 - acc: 0.9456 - val_loss: 0.1197 - val_acc: 0.9675\n",
      "Epoch 73/100\n",
      "60000/60000 [==============================] - 6s - loss: 0.1911 - acc: 0.9463 - val_loss: 0.1217 - val_acc: 0.9675\n",
      "Epoch 74/100\n",
      "60000/60000 [==============================] - 6s - loss: 0.1949 - acc: 0.9457 - val_loss: 0.1178 - val_acc: 0.9683\n",
      "Epoch 75/100\n",
      "60000/60000 [==============================] - 5s - loss: 0.1899 - acc: 0.9470 - val_loss: 0.1196 - val_acc: 0.9679\n",
      "Epoch 76/100\n",
      "60000/60000 [==============================] - 5s - loss: 0.1938 - acc: 0.9456 - val_loss: 0.1206 - val_acc: 0.9670\n",
      "Epoch 77/100\n",
      "60000/60000 [==============================] - 5s - loss: 0.1889 - acc: 0.9479 - val_loss: 0.1237 - val_acc: 0.9676\n",
      "Epoch 78/100\n",
      "60000/60000 [==============================] - 5s - loss: 0.1892 - acc: 0.9463 - val_loss: 0.1205 - val_acc: 0.9691\n",
      "Epoch 79/100\n",
      "60000/60000 [==============================] - 5s - loss: 0.1884 - acc: 0.9472 - val_loss: 0.1213 - val_acc: 0.9678\n",
      "Epoch 80/100\n",
      "60000/60000 [==============================] - 5s - loss: 0.1897 - acc: 0.9463 - val_loss: 0.1233 - val_acc: 0.9667\n",
      "Epoch 81/100\n",
      "60000/60000 [==============================] - 5s - loss: 0.1924 - acc: 0.9454 - val_loss: 0.1202 - val_acc: 0.9680\n",
      "Epoch 82/100\n",
      "60000/60000 [==============================] - 5s - loss: 0.1843 - acc: 0.9476 - val_loss: 0.1211 - val_acc: 0.9665\n",
      "Epoch 83/100\n",
      "60000/60000 [==============================] - 5s - loss: 0.1859 - acc: 0.9465 - val_loss: 0.1196 - val_acc: 0.9677\n",
      "Epoch 84/100\n",
      "60000/60000 [==============================] - 5s - loss: 0.1856 - acc: 0.9466 - val_loss: 0.1214 - val_acc: 0.9693\n",
      "Epoch 85/100\n",
      "60000/60000 [==============================] - 5s - loss: 0.1872 - acc: 0.9474 - val_loss: 0.1214 - val_acc: 0.9672\n",
      "Epoch 86/100\n",
      "60000/60000 [==============================] - 5s - loss: 0.1837 - acc: 0.9484 - val_loss: 0.1241 - val_acc: 0.9676\n",
      "Epoch 87/100\n",
      "60000/60000 [==============================] - 5s - loss: 0.1846 - acc: 0.9477 - val_loss: 0.1160 - val_acc: 0.9682\n",
      "Epoch 88/100\n",
      "60000/60000 [==============================] - 5s - loss: 0.1861 - acc: 0.9470 - val_loss: 0.1237 - val_acc: 0.9682\n",
      "Epoch 89/100\n",
      "60000/60000 [==============================] - 5s - loss: 0.1832 - acc: 0.9485 - val_loss: 0.1186 - val_acc: 0.9679\n",
      "Epoch 90/100\n",
      "60000/60000 [==============================] - 6s - loss: 0.1827 - acc: 0.9483 - val_loss: 0.1194 - val_acc: 0.9682\n",
      "Epoch 91/100\n",
      "60000/60000 [==============================] - 6s - loss: 0.1862 - acc: 0.9473 - val_loss: 0.1181 - val_acc: 0.9683\n",
      "Epoch 92/100\n",
      "60000/60000 [==============================] - 5s - loss: 0.1871 - acc: 0.9475 - val_loss: 0.1173 - val_acc: 0.9697\n",
      "Epoch 93/100\n",
      "60000/60000 [==============================] - 5s - loss: 0.1890 - acc: 0.9472 - val_loss: 0.1192 - val_acc: 0.9685\n",
      "Epoch 94/100\n",
      "60000/60000 [==============================] - 5s - loss: 0.1842 - acc: 0.9486 - val_loss: 0.1219 - val_acc: 0.9682\n",
      "Epoch 95/100\n",
      "60000/60000 [==============================] - 5s - loss: 0.1811 - acc: 0.9483 - val_loss: 0.1222 - val_acc: 0.9653\n",
      "Epoch 96/100\n",
      "60000/60000 [==============================] - 5s - loss: 0.1826 - acc: 0.9484 - val_loss: 0.1170 - val_acc: 0.9675\n",
      "Epoch 97/100\n",
      "60000/60000 [==============================] - 5s - loss: 0.1841 - acc: 0.9483 - val_loss: 0.1191 - val_acc: 0.9689\n",
      "Epoch 98/100\n",
      "60000/60000 [==============================] - 5s - loss: 0.1836 - acc: 0.9488 - val_loss: 0.1222 - val_acc: 0.9676\n",
      "Epoch 99/100\n",
      "60000/60000 [==============================] - 5s - loss: 0.1807 - acc: 0.9484 - val_loss: 0.1185 - val_acc: 0.9685\n",
      "Epoch 100/100\n",
      "60000/60000 [==============================] - 5s - loss: 0.1817 - acc: 0.9484 - val_loss: 0.1188 - val_acc: 0.9670\n"
     ]
    },
    {
     "data": {
      "text/plain": [
       "<keras.callbacks.History at 0x21720b47f28>"
      ]
     },
     "execution_count": 10,
     "metadata": {},
     "output_type": "execute_result"
    }
   ],
   "source": [
    "model.fit(X_train, y_train, batch_size=128, epochs=100, verbose=1, validation_data=(X_test, y_test))"
   ]
  },
  {
   "cell_type": "code",
   "execution_count": null,
   "metadata": {
    "collapsed": true
   },
   "outputs": [],
   "source": []
  }
 ],
 "metadata": {
  "kernelspec": {
   "display_name": "Python 3",
   "language": "python",
   "name": "python3"
  },
  "language_info": {
   "codemirror_mode": {
    "name": "ipython",
    "version": 3
   },
   "file_extension": ".py",
   "mimetype": "text/x-python",
   "name": "python",
   "nbconvert_exporter": "python",
   "pygments_lexer": "ipython3",
   "version": "3.5.4"
  }
 },
 "nbformat": 4,
 "nbformat_minor": 2
}
